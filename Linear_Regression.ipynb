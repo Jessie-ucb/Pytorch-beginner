{
 "cells": [
  {
   "cell_type": "code",
   "execution_count": 39,
   "metadata": {},
   "outputs": [],
   "source": [
    "## demo for linear regression\n",
    "# y=wx+b, "
   ]
  },
  {
   "cell_type": "code",
   "execution_count": 40,
   "metadata": {},
   "outputs": [],
   "source": [
    "import numpy as np\n",
    "import torch\n",
    "import torch.nn as nn\n",
    "import torch.optim as optim\n",
    "import matplotlib.pyplot as plt\n"
   ]
  },
  {
   "cell_type": "code",
   "execution_count": 41,
   "metadata": {},
   "outputs": [
    {
     "data": {
      "image/png": "[encoded data removed]",
      "text/plain": [
       "<Figure size 432x288 with 1 Axes>"
      ]
     },
     "metadata": {
      "needs_background": "light"
     },
     "output_type": "display_data"
    }
   ],
   "source": [
    "# training data\n",
    "x_train = np.array([[3.3], [4.4], [5.5], [6.71], [6.93], [4.168],\n",
    "                    [9.779], [6.182], [7.59], [2.167], [7.042],\n",
    "                    [10.791], [5.313], [7.997], [3.1]], dtype=np.float32)\n",
    "y_train = np.array([[1.7], [2.76], [2.09], [3.19], [1.694], [1.573],\n",
    "                    [3.366], [2.596], [2.53], [1.221], [2.827],\n",
    "                    [3.465], [1.65], [2.904], [1.3]], dtype=np.float32)\n",
    "\n",
    "# plot data\n",
    "plt.plot(x_train, y_train, 'ro')\n",
    "plt.show()\n",
    "\n",
    "# convert np.ndarray to torch.Tensor\n",
    "x_train = torch.from_numpy(x_train)\n",
    "y_train = torch.from_numpy(y_train)"
   ]
  },
  {
   "cell_type": "code",
   "execution_count": 42,
   "metadata": {},
   "outputs": [],
   "source": [
    "# linear regression model\n",
    "class LinearRegression(nn.Module):\n",
    "    def __init__(self):\n",
    "        super(LinearRegression, self).__init__()\n",
    "        self.linear = nn.Linear(1, 1)  # dimension of input and output is 1 dimension\n",
    "        \n",
    "    def forward(self, x):\n",
    "        out = self.linear(x)\n",
    "        return out\n",
    "    \n",
    "model = LinearRegression()\n",
    "\n",
    "criterion = nn.MSELoss()\n",
    "optimizer = optim.SGD(model.parameters(), lr=1e-4)"
   ]
  },
  {
   "cell_type": "code",
   "execution_count": 43,
   "metadata": {
    "scrolled": true
   },
   "outputs": [
    {
     "name": "stdout",
     "output_type": "stream",
     "text": [
      "[20/1000], loss: 0.585048\n",
      "[40/1000], loss: 0.512147\n",
      "[60/1000], loss: 0.460574\n",
      "[80/1000], loss: 0.424074\n",
      "[100/1000], loss: 0.398228\n",
      "[120/1000], loss: 0.379911\n",
      "[140/1000], loss: 0.366916\n",
      "[160/1000], loss: 0.357681\n",
      "[180/1000], loss: 0.351104\n",
      "[200/1000], loss: 0.346406\n",
      "[220/1000], loss: 0.343036\n",
      "[240/1000], loss: 0.340604\n",
      "[260/1000], loss: 0.338835\n",
      "[280/1000], loss: 0.337535\n",
      "[300/1000], loss: 0.336567\n",
      "[320/1000], loss: 0.335832\n",
      "[340/1000], loss: 0.335264\n",
      "[360/1000], loss: 0.334812\n",
      "[380/1000], loss: 0.334443\n",
      "[400/1000], loss: 0.334133\n",
      "[420/1000], loss: 0.333864\n",
      "[440/1000], loss: 0.333625\n",
      "[460/1000], loss: 0.333406\n",
      "[480/1000], loss: 0.333202\n",
      "[500/1000], loss: 0.333009\n",
      "[520/1000], loss: 0.332823\n",
      "[540/1000], loss: 0.332642\n",
      "[560/1000], loss: 0.332465\n",
      "[580/1000], loss: 0.332291\n",
      "[600/1000], loss: 0.332119\n",
      "[620/1000], loss: 0.331949\n",
      "[640/1000], loss: 0.331779\n",
      "[660/1000], loss: 0.331610\n",
      "[680/1000], loss: 0.331442\n",
      "[700/1000], loss: 0.331275\n",
      "[720/1000], loss: 0.331107\n",
      "[740/1000], loss: 0.330940\n",
      "[760/1000], loss: 0.330774\n",
      "[780/1000], loss: 0.330607\n",
      "[800/1000], loss: 0.330441\n",
      "[820/1000], loss: 0.330275\n",
      "[840/1000], loss: 0.330109\n",
      "[860/1000], loss: 0.329944\n",
      "[880/1000], loss: 0.329779\n",
      "[900/1000], loss: 0.329613\n",
      "[920/1000], loss: 0.329448\n",
      "[940/1000], loss: 0.329283\n",
      "[960/1000], loss: 0.329119\n",
      "[980/1000], loss: 0.328954\n",
      "[1000/1000], loss: 0.328790\n"
     ]
    }
   ],
   "source": [
    "from torch.autograd import Variable\n",
    "\n",
    "# training\n",
    "inputs = Variable(x_train)\n",
    "target = Variable(y_train)\n",
    "num_epochs = 1000\n",
    "for epoch in range(num_epochs):\n",
    "    # forward\n",
    "    out = model(inputs)\n",
    "    loss = criterion(out, target)\n",
    "    # backward\n",
    "    optimizer.zero_grad()\n",
    "    loss.backward()\n",
    "    optimizer.step()\n",
    "    \n",
    "    if (epoch + 1) % 20 == 0:\n",
    "        print('[{}/{}], loss: {:.6f}'.format(epoch+1, num_epochs, loss.item()))"
   ]
  },
  {
   "cell_type": "code",
   "execution_count": 44,
   "metadata": {},
   "outputs": [
    {
     "data": {
      "image/png": "[encoded data removed]",
      "text/plain": [
       "<Figure size 432x288 with 1 Axes>"
      ]
     },
     "metadata": {
      "needs_background": "light"
     },
     "output_type": "display_data"
    }
   ],
   "source": [
    "# test model\n",
    "model.eval() # switch to test mode\n",
    "with torch.no_grad():\n",
    "    predict = model(inputs)\n",
    "predict = predict.data.numpy()\n",
    "\n",
    "# display result\n",
    "plt.plot(x_train.numpy(), y_train.numpy(), 'ro', label='Original data')\n",
    "plt.plot(x_train.numpy(), predict, label='Fitting Line')\n",
    "plt.legend() \n",
    "plt.show()"
   ]
  },
  {
   "cell_type": "code",
   "execution_count": null,
   "metadata": {},
   "outputs": [],
   "source": []
  },
  {
   "cell_type": "code",
   "execution_count": null,
   "metadata": {},
   "outputs": [],
   "source": []
  }
 ],
 "metadata": {
  "kernelspec": {
   "display_name": "Python 3",
   "language": "python",
   "name": "python3"
  },
  "language_info": {
   "codemirror_mode": {
    "name": "ipython",
    "version": 3
   },
   "file_extension": ".py",
   "mimetype": "text/x-python",
   "name": "python",
   "nbconvert_exporter": "python",
   "pygments_lexer": "ipython3",
   "version": "3.7.3"
  }
 },
 "nbformat": 4,
 "nbformat_minor": 2
}
